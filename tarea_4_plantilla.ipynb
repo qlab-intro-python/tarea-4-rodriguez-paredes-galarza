{
 "cells": [
  {
   "cell_type": "markdown",
   "metadata": {},
   "source": [
    "# **Tarea Nº 4**"
   ]
  },
  {
   "cell_type": "markdown",
   "metadata": {},
   "source": [
    "- Fecha y hora de entrega: Domingo 12 de enero, 11:59pm\n",
    "- Agregue los nombres de las personas con las que discutió esta tarea: ____ Armando Paredes ______\n",
    "- Envíe su tarea haciendo el `push` de su código a su repo en GitHub Classroom: "
   ]
  },
  {
   "cell_type": "markdown",
   "metadata": {},
   "source": [
    "## **Mercado de autos usados**"
   ]
  },
  {
   "cell_type": "markdown",
   "metadata": {},
   "source": [
    "Importa el conjunto de datos `neoauto_20240924.csv`\n",
    "    "
   ]
  },
  {
   "cell_type": "markdown",
   "metadata": {},
   "source": [
    "1. ¿Cuál es el precio promedio de los autos de cada marca (`item_brand`) publicados en cada subcategoría (`item_category_2`)?"
   ]
  },
  {
   "cell_type": "code",
   "execution_count": null,
   "metadata": {},
   "outputs": [],
   "source": [
    "# Solución"
   ]
  },
  {
   "cell_type": "markdown",
   "metadata": {},
   "source": [
    "2. ¿Cuántos autos tienen más de 100,000 kilómetros (`item_km`) pero un precio (`item_price`) menor al promedio general?"
   ]
  },
  {
   "cell_type": "code",
   "execution_count": null,
   "metadata": {},
   "outputs": [],
   "source": [
    "# Solución"
   ]
  },
  {
   "cell_type": "markdown",
   "metadata": {},
   "source": [
    "3. Encuentra el modelo (`item_name`) más caro y el más barato de cada marca (`item_brand`)."
   ]
  },
  {
   "cell_type": "code",
   "execution_count": null,
   "metadata": {},
   "outputs": [],
   "source": [
    "# Solución"
   ]
  },
  {
   "cell_type": "markdown",
   "metadata": {},
   "source": [
    "4. Encuentra las tres marcas con mayor número de autos financiados por Santander (`item_financed_by`). "
   ]
  },
  {
   "cell_type": "code",
   "execution_count": null,
   "metadata": {},
   "outputs": [],
   "source": [
    "# Solución"
   ]
  },
  {
   "cell_type": "markdown",
   "metadata": {},
   "source": [
    "5. Agrupa las publicaciones por tipo de transmisión (`item_transmission`) y calcula la desviación estándar del precio (`item_price`) para cada tipo.  "
   ]
  },
  {
   "cell_type": "code",
   "execution_count": null,
   "metadata": {},
   "outputs": [],
   "source": [
    "# Solución"
   ]
  },
  {
   "cell_type": "markdown",
   "metadata": {},
   "source": [
    "6. ¿Cuál es el kilometraje promedio de las publicaciones con el tag \"Premium\" y de las publicaciones con el tag \"Como nuevo\"?"
   ]
  },
  {
   "cell_type": "code",
   "execution_count": null,
   "metadata": {},
   "outputs": [],
   "source": [
    "# Solución"
   ]
  },
  {
   "cell_type": "markdown",
   "metadata": {},
   "source": [
    "7. ¿Cuáles son las marcas de vehículas para los que todos sus modelos fabricados en los últimos 5 años tienen al menos 5 publicaciones cada una?"
   ]
  },
  {
   "cell_type": "code",
   "execution_count": null,
   "metadata": {},
   "outputs": [],
   "source": [
    "# Solución"
   ]
  },
  {
   "cell_type": "markdown",
   "metadata": {},
   "source": [
    "## **Evolución económica internacional**"
   ]
  },
  {
   "cell_type": "markdown",
   "metadata": {},
   "source": [
    "Importa el conjunto de datos de la hoja \"Data\" del archivo `pwt1001.xlsx`. El diccionario de variables está disponible en la hoja \"Legend\" del archivo Excel.\n",
    "    "
   ]
  },
  {
   "cell_type": "markdown",
   "metadata": {},
   "source": [
    "1. Calcule el PBI per cápita real ajustado por poder de paridad de compra (PPP). Use la variable de PBI que se calcula por gasto y la población. ¿Cuáles son los 10 países top?"
   ]
  },
  {
   "cell_type": "code",
   "execution_count": null,
   "metadata": {},
   "outputs": [],
   "source": [
    "# 1. \n",
    "# Cargar los datos\n",
    "file_path = \"C:/Users/HP/Downloads/pwt1001.xlsx\"\n",
    "data = pd.read_excel(file_path, sheet_name=\"Data\")\n",
    "# Calcular el PBI per cápita real PPP\n",
    "data['rgdpe_pc'] = data['rgdpe'] / data['pop']\n",
    "# Eliminar valores faltantes\n",
    "valid_data = data.dropna(subset=['rgdpe_pc', 'year'])\n",
    "# Obtener el año más reciente\n",
    "latest_year = valid_data['year'].max()\n",
    "# Identificar los top 10 países\n",
    "top_countries = (valid_data[valid_data['year'] == latest_year]\n",
    "                .nlargest(10, 'rgdpe_pc')\n",
    "                [['country', 'year', 'rgdpe_pc']]\n",
    "                .reset_index(drop=True))\n",
    "\n",
    "print(f\"\\nTop 10 países por PBI per cápita PPP ajustado (Año {int(latest_year)}):\")\n",
    "print(\"\\nRanking  País                  PBI per cápita PPP\")\n",
    "print(\"-\" * 50)\n",
    "for idx, row in top_countries.iterrows():\n",
    "    print(f\"{idx+1:<8} {row['country']:<20} {row['rgdpe_pc']:,.2f}\")"
   ]
  },
  {
   "cell_type": "markdown",
   "metadata": {},
   "source": [
    "2. Genera el ránking de los países con el mayor incremento del PBI per cápita real PPP entre los años 1990 y 2019. ¿Dónde se ubica Perú? Para los países que no tengan información para dichos años, puede utilizar datos provenientes de hasta dos años antes o después"
   ]
  },
  {
   "cell_type": "code",
   "execution_count": null,
   "metadata": {},
   "outputs": [],
   "source": [
    "# 2.\n",
    "data_1990_2019 = valid_data[(valid_data['year'] >= 1988) & (valid_data['year'] <= 2021)]\n",
    "df_changes = data_1990_2019.pivot(index='country', columns='year', values='rgdpe_pc')\n",
    "df_changes['change'] = df_changes[2019] - df_changes[1990]\n",
    "ranking_changes = df_changes.sort_values('change', ascending=False).reset_index()\n",
    "ranking_peru = ranking_changes[ranking_changes['country'] == 'Peru'].index[0] + 1\n",
    "\n",
    "print(\"Ranking de países con mayor incremento (1990-2019):\")\n",
    "print(ranking_changes[['country', 'change']].head(10))\n",
    "print(f\"\\nUbicación de Perú: {ranking_peru}° lugar\")"
   ]
  },
  {
   "cell_type": "markdown",
   "metadata": {},
   "source": [
    "3. Para el periodo 2010-2019, calcule el promedio del índice del capital humano. ¿Qué relación existe entre esta variable y el PBI per cápita real PPP calculado previamente? ¿y el número de horas laboradas al año por los trabajadores?"
   ]
  },
  {
   "cell_type": "code",
   "execution_count": null,
   "metadata": {},
   "outputs": [],
   "source": [
    "# 3.\n",
    "data_2010_2019 = valid_data[(valid_data['year'] >= 2010) & (valid_data['year'] <= 2019)]\n",
    "human_capital_avg = data_2010_2019.groupby('country')['hc'].mean().reset_index()\n",
    "relation_df = data_2010_2019.groupby('country').agg({\n",
    "    'rgdpe_pc': 'mean',\n",
    "    'hc': 'mean',\n",
    "    'avh': 'mean'\n",
    "}).reset_index()\n",
    "correlacion_hc_gdp = relation_df['hc'].corr(relation_df['rgdpe_pc'])\n",
    "correlacion_hc_avh = relation_df['hc'].corr(relation_df['avh'])\n",
    "print(\"Promedio del índice de capital humano por país (2010-2019):\")\n",
    "print(human_capital_avg.sort_values('hc', ascending=False).head(10))\n",
    "print(\"\\nCorrelaciones:\")\n",
    "print(f\"Capital Humano - PBI per cápita: {correlacion_hc_gdp:.3f}\")\n",
    "print(f\"Capital Humano - Horas trabajadas: {correlacion_hc_avh:.3f}\")"
   ]
  },
  {
   "cell_type": "markdown",
   "metadata": {},
   "source": [
    "4. A partir de la variable del precio de los hogares, calcula los países y los años en los cuales se registró la mayor inflación anual para todo el periodo de tiempo disponible en la base de datos"
   ]
  },
  {
   "cell_type": "code",
   "execution_count": null,
   "metadata": {},
   "outputs": [],
   "source": [
    "# 4.\n",
    "data_sorted = data.sort_values(['country', 'year'])\n",
    "data_sorted['inflation'] = data_sorted.groupby('country')['pl_con'].pct_change() * 100\n",
    "data_sorted = data_sorted.replace([float('inf'), float('-inf')], float('nan'))\n",
    "max_inflation = data_sorted.dropna(subset=['inflation'])\n",
    "top_inflation = (max_inflation\n",
    "                .sort_values('inflation', ascending=False)\n",
    "                .head(10)[['country', 'year', 'inflation']]\n",
    "                .reset_index(drop=True))\n",
    "print(\"Top 10 casos de mayor inflación anual registrada:\")\n",
    "print(\"\\nPaís\\t\\tAño\\tInflación (%)\")\n",
    "print(\"-\" * 40)\n",
    "for _, row in top_inflation.iterrows():\n",
    "    print(f\"{row['country']:<15} {int(row['year'])}\\t{row['inflation']:,.1f}%\")"
   ]
  },
  {
   "cell_type": "markdown",
   "metadata": {},
   "source": [
    "5. ¿Cuáles son los países con la mayor cantidad de missing values en la variable de productividad total de factores a precios corrientes?"
   ]
  },
  {
   "cell_type": "code",
   "execution_count": null,
   "metadata": {},
   "outputs": [],
   "source": [
    "# 5.\n",
    "missing_tfp = (data\n",
    "               .groupby('country')['ctfp']  # Agrupamos por país y usamos la variable ctfp\n",
    "               .apply(lambda x: x.isna().sum())  # Contamos NaN\n",
    "               .sort_values(ascending=False)  # Ordenamos de mayor a menor\n",
    "               .reset_index(name='missing_count'))  # Reiniciamos el índice\n",
    "total_years = data.groupby('country').size().reset_index(name='total_years')\n",
    "missing_tfp = (missing_tfp\n",
    "               .merge(total_years, on='country')\n",
    "               .assign(missing_percentage = lambda x: (x.missing_count / x.total_years * 100)))\n",
    "print(\"Países con mayor cantidad de valores faltantes en PTF:\")\n",
    "print(\"\\nPaís\\t\\t\\tValores Faltantes\\tPorcentaje\\tTotal Años\")\n",
    "print(\"-\" * 70)\n",
    "for _, row in missing_tfp.head(15).iterrows():\n",
    "    print(f\"{row['country']:<20} {int(row['missing_count']):<20} {row['missing_percentage']:,.1f}%\\t\\t{row['total_years']}\")"
   ]
  },
  {
   "cell_type": "markdown",
   "metadata": {},
   "source": [
    "6.  Agrupa los datos por país y calcula el promedio de las horas trabajadas anuales (avh) y de la educación promedio (hc) para el periodo 2000-2020."
   ]
  },
  {
   "cell_type": "code",
   "execution_count": null,
   "metadata": {},
   "outputs": [],
   "source": [
    "# 6.\n",
    "data_2000_2020 = valid_data[(valid_data['year'] >= 2000) & (valid_data['year'] <= 2020)]\n",
    "# Calcular promedios por país\n",
    "country_averages = (data_2000_2020\n",
    "                   .groupby('country')\n",
    "                   .agg({\n",
    "                       'avh': 'mean',  # promedio de horas trabajadas\n",
    "                       'hc': 'mean',   # promedio de capital humano (educación)\n",
    "                       'year': ['count', 'min', 'max']  # estadísticas de años disponibles\n",
    "                   })\n",
    "                   .round(2)  # redondear a 2 decimales\n",
    "                   .reset_index())\n",
    "# Renombrar columnas para claridad\n",
    "country_averages.columns = ['country', 'avg_hours', 'avg_education', 'years_count', 'start_year', 'end_year']\n",
    "# Ordenar por horas trabajadas descendente\n",
    "country_averages_sorted = country_averages.sort_values('avg_hours', ascending=False)\n",
    "\n",
    "print(\"\\nPromedios por país (2000-2020):\")\n",
    "print(\"\\nPaís                  Horas Trabajadas    Índice Educación    Periodo\")\n",
    "print(\"-\" * 75)\n",
    "for _, row in country_averages_sorted.iterrows():\n",
    "    print(f\"{row['country']:<20} {row['avg_hours']:>10,.1f}        {row['avg_education']:>8.2f}          {int(row['start_year'])}-{int(row['end_year'])}\")\n",
    "\n",
    "# Calcular algunas estadísticas descriptivas\n",
    "print(\"\\nEstadísticas descriptivas:\")\n",
    "print(\"\\nHoras trabajadas:\")\n",
    "print(country_averages['avg_hours'].describe().round(2))\n",
    "print(\"\\nÍndice de educación:\")\n",
    "print(country_averages['avg_education'].describe().round(2))"
   ]
  },
  {
   "cell_type": "markdown",
   "metadata": {},
   "source": [
    "7.  Genere una variable que ordene a los países según el porcetaje de formación brutal de capital del 2019. Luego, estable diez grupos a manera de deciles. ¿En qué decil se ubica Péru? Vuelva a calcular usando la información de 1990. ¿El Perú se mantiene en el mismo décil o cambia?"
   ]
  },
  {
   "cell_type": "code",
   "execution_count": null,
   "metadata": {},
   "outputs": [],
   "source": [
    "# 7. \n",
    "# Función para calcular deciles y posición de Perú\n",
    "def calcular_deciles(data, año):\n",
    "    # Filtrar datos del año específico\n",
    "    data_año = data[data['year'] == año].copy()\n",
    "    # Calcular el porcentaje de formación bruta de capital\n",
    "    data_año['fbk_percent'] = data_año['csh_i'] * 100\n",
    "    # Ordenar países y asignar deciles (1-10)\n",
    "    data_año['decil'] = pd.qcut(data_año['fbk_percent'], q=10, labels=range(1,11))\n",
    "    # Obtener posición de Perú\n",
    "    peru_data = data_año[data_año['country'] == 'Peru']\n",
    "    # Ordenar países por porcentaje para ver ranking completo\n",
    "    ranking = data_año.sort_values('fbk_percent', ascending=False)\n",
    "    return peru_data, ranking\n",
    "# Calcular para 2019\n",
    "peru_2019, ranking_2019 = calcular_deciles(valid_data, 2019)\n",
    "# Calcular para 1990\n",
    "peru_1990, ranking_1990 = calcular_deciles(valid_data, 1990)\n",
    "\n",
    "print(\"Análisis de Formación Bruta de Capital:\")\n",
    "print(\"\\nAño 2019:\")\n",
    "print(f\"Perú se ubica en el decil: {peru_2019['decil'].iloc[0]}\")\n",
    "print(f\"Porcentaje de FBK: {peru_2019['fbk_percent'].iloc[0]:.2f}%\")\n",
    "\n",
    "print(\"\\nAño 1990:\")\n",
    "print(f\"Perú se ubica en el decil: {peru_1990['decil'].iloc[0]}\")\n",
    "print(f\"Porcentaje de FBK: {peru_1990['fbk_percent'].iloc[0]:.2f}%\")\n",
    "\n",
    "# Mostrar rankings completos\n",
    "print(\"\\nRanking 2019 (Top 10):\")\n",
    "print(ranking_2019[['country', 'fbk_percent', 'decil']].head(10))\n",
    "\n",
    "print(\"\\nRanking 1990 (Top 10):\")\n",
    "print(ranking_1990[['country', 'fbk_percent', 'decil']].head(10))\n",
    "\n",
    "# Mostrar cambio en la posición relativa\n",
    "cambio = peru_2019['decil'].iloc[0] - peru_1990['decil'].iloc[0]\n",
    "print(f\"\\nCambio en la posición de Perú:\")\n",
    "if cambio == 0:\n",
    "    print(\"Perú se mantiene en el mismo decil\")\n",
    "elif cambio > 0:\n",
    "    print(f\"Perú subió {abs(cambio)} deciles\")\n",
    "else:\n",
    "    print(f\"Perú bajó {abs(cambio)} deciles\")"
   ]
  },
  {
   "cell_type": "markdown",
   "metadata": {},
   "source": [
    "## **Transacciones Financieras**"
   ]
  },
  {
   "cell_type": "markdown",
   "metadata": {},
   "source": [
    "Importa el conjunto de datos `base_financiera.csv`\n",
    "    "
   ]
  },
  {
   "cell_type": "markdown",
   "metadata": {},
   "source": [
    "8. Filtra todas las transacciones de tipo \"Debit\" en las que el monto sea mayor a 200, y calcula el monto total de esas transacciones. Además, determina cuántos clientes únicos realizaron esas transacciones."
   ]
  },
  {
   "cell_type": "code",
   "execution_count": null,
   "metadata": {},
   "outputs": [],
   "source": [
    "# Solución"
   ]
  },
  {
   "cell_type": "markdown",
   "metadata": {},
   "source": [
    "9. Identifica las transacciones con valores nulos en la columna (`Amount`) . Rellena esos valores con la mediana de los montos por tipo de transacción (`Transaction_Type`) y luego calcula el monto total de transacciones por región (`region`) ."
   ]
  },
  {
   "cell_type": "code",
   "execution_count": null,
   "metadata": {},
   "outputs": [],
   "source": [
    "# Solución"
   ]
  },
  {
   "cell_type": "markdown",
   "metadata": {},
   "source": [
    "10. Busca transacciones duplicadas considerando las columnas (`Customer_ID`) y (`Date`). Elimina los duplicados manteniendo solo la primera ocurrencia. Luego, agrupa las transacciones restantes por (`Customer_ID`) y calcula el monto promedio y la cantidad de transacciones por cliente."
   ]
  },
  {
   "cell_type": "code",
   "execution_count": null,
   "metadata": {},
   "outputs": [],
   "source": [
    "# Solución"
   ]
  }
 ],
 "metadata": {
  "hide_input": false,
  "kernelspec": {
   "display_name": "Python 3 (ipykernel)",
   "language": "python",
   "name": "python3"
  },
  "language_info": {
   "codemirror_mode": {
    "name": "ipython",
    "version": 3
   },
   "file_extension": ".py",
   "mimetype": "text/x-python",
   "name": "python",
   "nbconvert_exporter": "python",
   "pygments_lexer": "ipython3",
   "version": "3.12.7"
  },
  "toc": {
   "base_numbering": 1,
   "nav_menu": {},
   "number_sections": true,
   "sideBar": true,
   "skip_h1_title": false,
   "title_cell": "Table of Contents",
   "title_sidebar": "Contents",
   "toc_cell": false,
   "toc_position": {},
   "toc_section_display": true,
   "toc_window_display": false
  }
 },
 "nbformat": 4,
 "nbformat_minor": 4
}
