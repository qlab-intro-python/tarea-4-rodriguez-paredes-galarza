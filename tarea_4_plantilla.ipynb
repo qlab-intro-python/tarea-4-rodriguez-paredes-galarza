{
 "cells": [
  {
   "cell_type": "markdown",
   "metadata": {},
   "source": [
    "# **Tarea Nº 4**"
   ]
  },
  {
   "cell_type": "markdown",
   "metadata": {},
   "source": [
    "- Fecha y hora de entrega: Domingo 12 de enero, 11:59pm\n",
    "- Agregue los nombres de las personas con las que discutió esta tarea: __Jhoany Rodriguez, Andre Paredes y Fabian Galarza__\n",
    "- Envíe su tarea haciendo el `push` de su código a su repo en GitHub Classroom: "
   ]
  },
  {
   "cell_type": "markdown",
   "metadata": {},
   "source": [
    "## **Mercado de autos usados**"
   ]
  },
  {
   "cell_type": "markdown",
   "metadata": {},
   "source": [
    "Importa el conjunto de datos `neoauto_20240924.csv`\n",
    "    "
   ]
  },
  {
   "cell_type": "markdown",
   "metadata": {},
   "source": [
    "1. ¿Cuál es el precio promedio de los autos de cada marca (`item_brand`) publicados en cada subcategoría (`item_category_2`)?"
   ]
  },
  {
   "cell_type": "code",
   "execution_count": 3,
   "metadata": {},
   "outputs": [
    {
     "name": "stdout",
     "output_type": "stream",
     "text": [
      "       item_brand item_category_2          value\n",
      "0      ALFA-ROMEO       Hatchback    8500.000000\n",
      "1      ALFA-ROMEO           Sedan    2500.000000\n",
      "2    ASTON MARTIN  Camionetas Suv       0.000000\n",
      "3    ASTON MARTIN       Deportivo       0.000000\n",
      "4    ASTON MARTIN           Sedan  149900.000000\n",
      "..            ...             ...            ...\n",
      "197         VOLVO  Camionetas Suv   41021.219512\n",
      "198         VOLVO       Deportivo    8800.000000\n",
      "199         VOLVO       Hatchback   12272.500000\n",
      "200         VOLVO           Sedan   10802.777778\n",
      "201         VOLVO   Station Wagon    6100.000000\n",
      "\n",
      "[202 rows x 3 columns]\n"
     ]
    }
   ],
   "source": [
    "import pandas as pd\n",
    "df_neoauto = pd.read_csv('neoauto_20240924.csv')\n",
    "mean_value = df_neoauto.groupby(['item_brand', 'item_category_2'], as_index=False)['value'].mean()\n",
    "print(mean_value)"
   ]
  },
  {
   "cell_type": "markdown",
   "metadata": {},
   "source": [
    "2. ¿Cuántos autos tienen más de 100,000 kilómetros (`item_km`) pero un precio (`item_price`) menor al promedio general?"
   ]
  },
  {
   "cell_type": "code",
   "execution_count": 5,
   "metadata": {},
   "outputs": [
    {
     "name": "stdout",
     "output_type": "stream",
     "text": [
      "497\n"
     ]
    }
   ],
   "source": [
    "precio_promedio_general = df_neoauto['item_price'].mean()\n",
    "autos_filtro = df_neoauto[(df_neoauto['item_km'] > 100000) & (df_neoauto['item_price'] < precio_promedio_general)]\n",
    "cantidad_autos = autos_filtro.shape[0]\n",
    "print(cantidad_autos)"
   ]
  },
  {
   "cell_type": "markdown",
   "metadata": {},
   "source": [
    "3. Encuentra el modelo (`item_name`) más caro y el más barato de cada marca (`item_brand`)."
   ]
  },
  {
   "cell_type": "code",
   "execution_count": 6,
   "metadata": {},
   "outputs": [
    {
     "name": "stdout",
     "output_type": "stream",
     "text": [
      "                       modelo_mas_caro  precio_mas_caro  \\\n",
      "item_brand                                                \n",
      "ALFA-ROMEO         alfa-romeo 147 2006           8500.0   \n",
      "ASTON MARTIN     aston martin dbx 2021         229000.0   \n",
      "AUDI                    audi rs 6 2024         220000.0   \n",
      "AUSTIN         austin mini cooper 1970              1.0   \n",
      "BAIC                     baic x55 2021          12800.0   \n",
      "...                                ...              ...   \n",
      "SWM                   swm g05 pro 2022          14000.0   \n",
      "TOYOTA               toyota hilux 2019         100000.0   \n",
      "TRIUMPH              triumph tr-7 1971          18900.0   \n",
      "VOLKSWAGEN    volkswagen teramont 2023          48900.0   \n",
      "VOLVO                 volvo xc-90 2023          84990.0   \n",
      "\n",
      "                           modelo_mas_barato  precio_mas_barato  \n",
      "item_brand                                                       \n",
      "ALFA-ROMEO           alfa-romeo alfasud 1982             2500.0  \n",
      "ASTON MARTIN          aston martin db11 2017           149900.0  \n",
      "AUDI                      audi a3 sedan 2015                0.0  \n",
      "AUSTIN               austin mini cooper 1970                1.0  \n",
      "BAIC                          baic plus 2018             7500.0  \n",
      "...                                      ...                ...  \n",
      "SWM                         swm g05 pro 2022            14000.0  \n",
      "TOYOTA        toyota land cruiser prado 2011                0.0  \n",
      "TRIUMPH                    triumph tr-7 1971            18900.0  \n",
      "VOLKSWAGEN              volkswagen bora 2015                0.0  \n",
      "VOLVO                   volvo 850 turbo 1995             2100.0  \n",
      "\n",
      "[73 rows x 4 columns]\n"
     ]
    }
   ],
   "source": [
    "modelo_mas_caro_barato = df_neoauto.groupby('item_brand').agg(\n",
    "    modelo_mas_caro=('item_name', lambda x: x[df_neoauto.loc[x.index, 'item_price'].idxmax()]),\n",
    "    precio_mas_caro=('item_price', 'max'),\n",
    "    modelo_mas_barato=('item_name', lambda x: x[df_neoauto.loc[x.index, 'item_price'].idxmin()]),\n",
    "    precio_mas_barato=('item_price', 'min'))\n",
    "print(modelo_mas_caro_barato)"
   ]
  },
  {
   "cell_type": "markdown",
   "metadata": {},
   "source": [
    "4. Encuentra las tres marcas con mayor número de autos financiados por Santander (`item_financed_by`). "
   ]
  },
  {
   "cell_type": "code",
   "execution_count": 9,
   "metadata": {},
   "outputs": [
    {
     "name": "stdout",
     "output_type": "stream",
     "text": [
      "Las tres marcas con mayor número de autos financiados por Santander son:\n",
      "item_brand\n",
      "BMW       296\n",
      "TOYOTA    261\n",
      "NISSAN    228\n",
      "Name: item_brand, dtype: int64\n"
     ]
    }
   ],
   "source": [
    "marcas_top_financiadas = df_neoauto[df_neoauto['item_financed_by'] == 'Santander'].groupby('item_brand')['item_brand'].count().nlargest(3)\n",
    "print(\"Las tres marcas con mayor número de autos financiados por Santander son:\")\n",
    "print(marcas_top_financiadas)\n"
   ]
  },
  {
   "cell_type": "markdown",
   "metadata": {},
   "source": [
    "5. Agrupa las publicaciones por tipo de transmisión (`item_transmission`) y calcula la desviación estándar del precio (`item_price`) para cada tipo.  "
   ]
  },
  {
   "cell_type": "code",
   "execution_count": 14,
   "metadata": {},
   "outputs": [
    {
     "name": "stdout",
     "output_type": "stream",
     "text": [
      "Desviación estándar del precio por tipo de transmisión:\n",
      "item_transmission\n",
      "Automática                 15332.729048\n",
      "Automática - Secuencial    22678.641589\n",
      "Mecánica                    8137.122127\n",
      "Name: item_price, dtype: float64\n"
     ]
    }
   ],
   "source": [
    "desvest_precio_transmision = df_neoauto.groupby('item_transmission')['item_price'].std()\n",
    "print(\"Desviación estándar del precio por tipo de transmisión:\")\n",
    "print(desvest_precio_transmision)\n"
   ]
  },
  {
   "cell_type": "markdown",
   "metadata": {},
   "source": [
    "6. ¿Cuál es el kilometraje promedio de las publicaciones con el tag \"Premium\" y de las publicaciones con el tag \"Como nuevo\"?"
   ]
  },
  {
   "cell_type": "code",
   "execution_count": 15,
   "metadata": {},
   "outputs": [
    {
     "name": "stdout",
     "output_type": "stream",
     "text": [
      "Kilometraje promedio por tag:\n",
      "item_tag\n",
      "Como nuevo    35963.476190\n",
      "Premium       48400.235897\n",
      "Name: item_km, dtype: float64\n"
     ]
    }
   ],
   "source": [
    "kilometraje_tags = df_neoauto[df_neoauto['item_tag'].isin(['Premium', 'Como nuevo'])].groupby('item_tag')['item_km'].mean()\n",
    "print(\"Kilometraje promedio por tag:\")\n",
    "print(kilometraje_tags)\n"
   ]
  },
  {
   "cell_type": "markdown",
   "metadata": {},
   "source": [
    "7. ¿Cuáles son las marcas de vehículos para los que todos sus modelos fabricados en los últimos 5 años tienen al menos 5 publicaciones cada una?"
   ]
  },
  {
   "cell_type": "code",
   "execution_count": 37,
   "metadata": {},
   "outputs": [
    {
     "name": "stdout",
     "output_type": "stream",
     "text": [
      "Marcas con todos sus modelos recientes (últimos 5 años) con al menos 5 publicaciones válidas:\n",
      "[]\n"
     ]
    }
   ],
   "source": [
    "from datetime import datetime\n",
    "\n",
    "publicaciones_validas = df_neoauto[df_neoauto['item_price'].notna()]\n",
    "\n",
    "año_actual = 2024 # Asumimos que el año actual es 2024\n",
    "año_limite = año_actual - 5\n",
    "\n",
    "autos_recientes = publicaciones_validas[publicaciones_validas['item_year'] >= año_limite]\n",
    "\n",
    "publicaciones_por_modelo = autos_recientes.groupby(['item_brand', 'item_name']).size().reset_index(name='count') # publicaciones únicas por marca y modelo\n",
    "\n",
    "modelos_con_mas_de_5_publicaciones = publicaciones_por_modelo[publicaciones_por_modelo['count'] >= 5]\n",
    "\n",
    "modelos_por_marca = modelos_con_mas_de_5_publicaciones.groupby('item_brand')['item_name'].nunique().reset_index(name='num_modelos') # se agrupa por marca y se cuenta cuántos modelos cumplen el criterio\n",
    "\n",
    "modelos_totales_recientes = autos_recientes.groupby('item_brand')['item_name'].nunique().reset_index(name='total_modelos') # se cuentan todos los modelos recientes (últimos 5 años) por marca\n",
    "\n",
    "marcas_validas = pd.merge(modelos_por_marca, modelos_totales_recientes, on='item_brand')\n",
    "\n",
    "marcas_finales = marcas_validas[marcas_validas['num_modelos'] == marcas_validas['total_modelos']]['item_brand'] # filtro: TODOS los modelos fabricados en los últimos 5 años tienen al menos 5 publicaciones cada una\n",
    "\n",
    "print(\"Marcas con todos sus modelos recientes (últimos 5 años) con al menos 5 publicaciones válidas:\")\n",
    "print(marcas_finales.tolist()) # no existen marcas que cumplan con el requisito"
   ]
  },
  {
   "cell_type": "markdown",
   "metadata": {},
   "source": [
    "## **Evolución económica internacional**"
   ]
  },
  {
   "cell_type": "markdown",
   "metadata": {},
   "source": [
    "Importa el conjunto de datos de la hoja \"Data\" del archivo `pwt1001.xlsx`. El diccionario de variables está disponible en la hoja \"Legend\" del archivo Excel.\n",
    "    "
   ]
  },
  {
   "cell_type": "markdown",
   "metadata": {},
   "source": [
    "1. Calcule el PBI per cápita real ajustado por poder de paridad de compra (PPP). Use la variable de PBI que se calcula por gasto y la población. ¿Cuáles son los 10 países top?"
   ]
  },
  {
   "cell_type": "code",
   "execution_count": null,
   "metadata": {},
   "outputs": [],
   "source": [
    "import pandas as pd\n",
    "\n",
    "# Ruta al archivo original\n",
    "file_path = \"C:/Users/HP/Downloads/pwt1001.xlsx\"\n",
    "\n",
    "# Cargar la hoja \"Data\"\n",
    "data = pd.read_excel(file_path, sheet_name=\"Data\")\n",
    "\n",
    "# 1. \n",
    "data['rgdpe_pc'] = data['rgdpe'] / data['pop']  # PBI per cápita\n",
    "\n",
    "# Filtrar los datos válidos\n",
    "valid_data = data.dropna(subset=['rgdpe_pc', 'year'])\n",
    "latest_year = valid_data['year'].max()\n",
    "top_countries = valid_data[valid_data['year'] == latest_year].nlargest(10, 'rgdpe_pc')[['country', 'rgdpe_pc']]\n",
    "\n",
    "print(\"Top países por PBI per cápita PPP ajustado:\")\n",
    "print(top_countries)"
   ]
  },
  {
   "cell_type": "markdown",
   "metadata": {},
   "source": [
    "2. Genera el ránking de los países con el mayor incremento del PBI per cápita real PPP entre los años 1990 y 2019. ¿Dónde se ubica Perú? Para los países que no tengan información para dichos años, puede utilizar datos provenientes de hasta dos años antes o después"
   ]
  },
  {
   "cell_type": "code",
   "execution_count": null,
   "metadata": {},
   "outputs": [],
   "source": [
    "# 2.\n",
    "data_1990_2019 = valid_data[(valid_data['year'] >= 1990) & (valid_data['year'] <= 2019)]\n",
    "df_changes = data_1990_2019.pivot(index='country', columns='year', values='rgdpe_pc')\n",
    "df_changes['change'] = df_changes[2019] - df_changes[1990]\n",
    "ranking_changes = df_changes.nlargest(10, 'change')[['change']]\n",
    "print(\"Ranking de países con mayor incremento (1990-2019):\")\n",
    "print(ranking)\n",
    "print(\"Ubicación de Perú:\", ranking_peru)"
   ]
  },
  {
   "cell_type": "markdown",
   "metadata": {},
   "source": [
    "3. Para el periodo 2010-2019, calcule el promedio del índice del capital humano. ¿Qué relación existe entre esta variable y el PBI per cápita real PPP calculado previamente? ¿y el número de horas laboradas al año por los trabajadores?"
   ]
  },
  {
   "cell_type": "code",
   "execution_count": null,
   "metadata": {},
   "outputs": [],
   "source": [
    "# 3. \n",
    "data_2010_2019 = valid_data[(valid_data['year'] >= 2010) & (valid_data['year'] <= 2019)]\n",
    "human_capital_avg = data_2010_2019.groupby('country')['hc'].mean().reset_index()\n",
    "relation_hc_gdp = data_2010_2019.groupby('country').agg({\n",
    "    'rgdpe_pc': 'mean',\n",
    "    'hc': 'mean',\n",
    "    'avh': 'mean'\n",
    "}).reset_index()\n",
    "print(\"Promedio del índice de capital humano (2010-2019):\")\n",
    "print(human_capital_avg)"
   ]
  },
  {
   "cell_type": "markdown",
   "metadata": {},
   "source": [
    "4. A partir de la variable del precio de los hogares, calcula los países y los años en los cuales se registró la mayor inflación anual para todo el periodo de tiempo disponible en la base de datos"
   ]
  },
  {
   "cell_type": "code",
   "execution_count": null,
   "metadata": {},
   "outputs": [],
   "source": [
    "# 4. \n",
    "\n",
    "# Calcular inflación\n",
    "data['inflation'] = data.groupby('country')['pl_con'].pct_change() * 100\n",
    "\n",
    "# Identificar los países y años con mayor inflación\n",
    "max_inflation = data.loc[data.groupby('country')['inflation'].idxmax()][['country', 'year', 'inflation']]\n",
    "\n",
    "# Mostrar resultados de la mayor inflación anual\n",
    "print(\"País con mayor inflación anual registrada:\")\n",
    "print(max_inflation)"
   ]
  },
  {
   "cell_type": "markdown",
   "metadata": {},
   "source": [
    "5. ¿Cuáles son los países con la mayor cantidad de missing values en la variable de productividad total de factores a precios corrientes?"
   ]
  },
  {
   "cell_type": "code",
   "execution_count": null,
   "metadata": {},
   "outputs": [],
   "source": [
    "# Solución"
   ]
  },
  {
   "cell_type": "markdown",
   "metadata": {},
   "source": [
    "6.  Agrupa los datos por país y calcula el promedio de las horas trabajadas anuales (avh) y de la educación promedio (hc) para el periodo 2000-2020."
   ]
  },
  {
   "cell_type": "code",
   "execution_count": null,
   "metadata": {},
   "outputs": [],
   "source": [
    "# Solución"
   ]
  },
  {
   "cell_type": "markdown",
   "metadata": {},
   "source": [
    "7.  Genere una variable que ordene a los países según el porcetaje de formación brutal de capital del 2019. Luego, estable diez grupos a manera de deciles. ¿En qué decil se ubica Péru? Vuelva a calcular usando la información de 1990. ¿El Perú se mantiene en el mismo décil o cambia?"
   ]
  },
  {
   "cell_type": "code",
   "execution_count": null,
   "metadata": {},
   "outputs": [],
   "source": [
    "# Solución"
   ]
  },
  {
   "cell_type": "markdown",
   "metadata": {},
   "source": [
    "## **Transacciones Financieras**"
   ]
  },
  {
   "cell_type": "markdown",
   "metadata": {},
   "source": [
    "Importa el conjunto de datos `base_financiera.csv`\n",
    "    "
   ]
  },
  {
   "cell_type": "markdown",
   "metadata": {},
   "source": [
    "8. Filtra todas las transacciones de tipo \"Debit\" en las que el monto sea mayor a 200, y calcula el monto total de esas transacciones. Además, determina cuántos clientes únicos realizaron esas transacciones."
   ]
  },
  {
   "cell_type": "code",
   "execution_count": null,
   "metadata": {},
   "outputs": [],
   "source": [
    "# Solución"
   ]
  },
  {
   "cell_type": "markdown",
   "metadata": {},
   "source": [
    "9. Identifica las transacciones con valores nulos en la columna (`Amount`) . Rellena esos valores con la mediana de los montos por tipo de transacción (`Transaction_Type`) y luego calcula el monto total de transacciones por región (`region`) ."
   ]
  },
  {
   "cell_type": "code",
   "execution_count": null,
   "metadata": {},
   "outputs": [],
   "source": [
    "# Solución"
   ]
  },
  {
   "cell_type": "markdown",
   "metadata": {},
   "source": [
    "10. Busca transacciones duplicadas considerando las columnas (`Customer_ID`) y (`Date`). Elimina los duplicados manteniendo solo la primera ocurrencia. Luego, agrupa las transacciones restantes por (`Customer_ID`) y calcula el monto promedio y la cantidad de transacciones por cliente."
   ]
  },
  {
   "cell_type": "code",
   "execution_count": null,
   "metadata": {},
   "outputs": [],
   "source": [
    "# Solución"
   ]
  }
 ],
 "metadata": {
  "hide_input": false,
  "kernelspec": {
   "display_name": "base",
   "language": "python",
   "name": "python3"
  },
  "language_info": {
   "codemirror_mode": {
    "name": "ipython",
    "version": 3
   },
   "file_extension": ".py",
   "mimetype": "text/x-python",
   "name": "python",
   "nbconvert_exporter": "python",
   "pygments_lexer": "ipython3",
   "version": "3.12.7"
  },
  "toc": {
   "base_numbering": 1,
   "nav_menu": {},
   "number_sections": true,
   "sideBar": true,
   "skip_h1_title": false,
   "title_cell": "Table of Contents",
   "title_sidebar": "Contents",
   "toc_cell": false,
   "toc_position": {},
   "toc_section_display": true,
   "toc_window_display": false
  }
 },
 "nbformat": 4,
 "nbformat_minor": 4
}
